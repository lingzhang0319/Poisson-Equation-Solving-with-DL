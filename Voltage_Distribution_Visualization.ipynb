{
 "cells": [
  {
   "cell_type": "code",
   "execution_count": 1,
   "metadata": {},
   "outputs": [
    {
     "name": "stdout",
     "output_type": "stream",
     "text": [
      "High five! You successfully sent some data to your account on plotly. View your plot in your browser at https://plot.ly/~miracleyoo/0 or inside your plot.ly account where it is named 'elevations-3d-surface'\n"
     ]
    },
    {
     "data": {
      "text/html": [
       "<iframe id=\"igraph\" scrolling=\"no\" style=\"border:none;\" seamless=\"seamless\" src=\"https://plot.ly/~miracleyoo/0.embed\" height=\"500px\" width=\"500px\"></iframe>"
      ],
      "text/plain": [
       "<plotly.tools.PlotlyDisplay object>"
      ]
     },
     "execution_count": 1,
     "metadata": {},
     "output_type": "execute_result"
    }
   ],
   "source": [
    "import plotly.plotly as py\n",
    "import plotly.graph_objs as go\n",
    "\n",
    "import pandas as pd\n",
    "\n",
    "# Read data from a csv\n",
    "z_data = pd.read_csv('https://raw.githubusercontent.com/plotly/datasets/master/api_docs/mt_bruno_elevation.csv')\n",
    "\n",
    "data = [\n",
    "    go.Surface(\n",
    "        z=z_data.as_matrix()\n",
    "    )\n",
    "]\n",
    "layout = go.Layout(\n",
    "    title='Mt Bruno Elevation',\n",
    "    autosize=False,\n",
    "    width=500,\n",
    "    height=500,\n",
    "    margin=dict(\n",
    "        l=65,\n",
    "        r=50,\n",
    "        b=65,\n",
    "        t=90\n",
    "    )\n",
    ")\n",
    "fig = go.Figure(data=data, layout=layout)\n",
    "py.iplot(fig, filename='elevations-3d-surface')"
   ]
  },
  {
   "cell_type": "code",
   "execution_count": 2,
   "metadata": {},
   "outputs": [
    {
     "name": "stderr",
     "output_type": "stream",
     "text": [
      "/Users/miracle/anaconda2/envs/py3/lib/python3.6/site-packages/plotly/graph_objs/_deprecations.py:477: DeprecationWarning:\n",
      "\n",
      "plotly.graph_objs.Scene is deprecated.\n",
      "Please replace it with one of the following more specific types\n",
      "  - plotly.graph_objs.Scene\n",
      "\n",
      "\n"
     ]
    },
    {
     "name": "stdout",
     "output_type": "stream",
     "text": [
      "This is the format of your plot grid:\n",
      "[ (1,1) scene1 ]  [ (1,2) scene2 ]\n",
      "[ (2,1) scene3 ]  [ (2,2) scene4 ]\n",
      "\n"
     ]
    },
    {
     "data": {
      "text/html": [
       "<iframe id=\"igraph\" scrolling=\"no\" style=\"border:none;\" seamless=\"seamless\" src=\"https://plot.ly/~miracleyoo/4.embed\" height=\"800px\" width=\"800px\"></iframe>"
      ],
      "text/plain": [
       "<plotly.tools.PlotlyDisplay object>"
      ]
     },
     "execution_count": 2,
     "metadata": {},
     "output_type": "execute_result"
    }
   ],
   "source": [
    "import plotly.plotly as py\n",
    "import plotly.graph_objs as go\n",
    "from plotly import tools\n",
    "\n",
    "import numpy as np\n",
    "\n",
    "x = np.linspace(-5, 80, 10)\n",
    "y = np.linspace(-5, 60, 10)\n",
    "xGrid, yGrid = np.meshgrid(y, x)\n",
    "z = xGrid ** 3 + yGrid ** 3\n",
    "\n",
    "scene = dict(\n",
    "    xaxis=dict(\n",
    "        gridcolor='rgb(255, 255, 255)',\n",
    "        zerolinecolor='rgb(255, 255, 255)',\n",
    "        showbackground=True,\n",
    "        backgroundcolor='rgb(230, 230,230)'\n",
    "    ),\n",
    "    yaxis=dict(\n",
    "        gridcolor='rgb(255, 255, 255)',\n",
    "        zerolinecolor='rgb(255, 255, 255)',\n",
    "        showbackground=True,\n",
    "        backgroundcolor='rgb(230, 230,230)'\n",
    "    ),\n",
    "    zaxis=dict(\n",
    "        gridcolor='rgb(255, 255, 255)',\n",
    "        zerolinecolor='rgb(255, 255, 255)',\n",
    "        showbackground=True,\n",
    "        backgroundcolor='rgb(230, 230,230)'\n",
    "    )\n",
    ")\n",
    "\n",
    "fig = tools.make_subplots(rows=2, cols=2,\n",
    "                          specs=[[{'is_3d': True}, {'is_3d': True}],\n",
    "                                 [{'is_3d': True}, {'is_3d': True}]])\n",
    "\n",
    "# adding surfaces to subplots.\n",
    "fig.append_trace(dict(type='surface', x=x, y=y, z=z, colorscale='Viridis',\n",
    "                      scene='scene1', showscale=False), 1, 1)\n",
    "fig.append_trace(dict(type='surface', x=x, y=y, z=z, colorscale='RdBu',\n",
    "                      scene='scene2', showscale=False), 1, 2)\n",
    "fig.append_trace(dict(type='surface', x=x, y=y, z=z, colorscale='YlOrRd',\n",
    "                      scene='scene3', showscale=False), 2, 1)\n",
    "fig.append_trace(dict(type='surface', x=x, y=y, z=z, colorscale='YlGnBu',\n",
    "                      scene='scene4', showscale=False), 2, 2)\n",
    "\n",
    "fig['layout'].update(title='subplots with different colorscales',\n",
    "                     height=800, width=800)\n",
    "fig['layout']['scene1'].update(scene)\n",
    "fig['layout']['scene2'].update(scene)\n",
    "fig['layout']['scene3'].update(scene)\n",
    "fig['layout']['scene4'].update(scene)\n",
    "\n",
    "py.iplot(fig, file_name='multiple_plots')"
   ]
  },
  {
   "cell_type": "code",
   "execution_count": 1,
   "metadata": {},
   "outputs": [
    {
     "name": "stdout",
     "output_type": "stream",
     "text": [
      "==> Load train data successfully.\n",
      "==> Load test data successfully.\n"
     ]
    }
   ],
   "source": [
    "import scipy.io\n",
    "root = './TempData/'\n",
    "DATA_PATH = [root + 'train_data.mat', root + 'test_data.mat']\n",
    "\n",
    "train_data = scipy.io.loadmat(DATA_PATH[0])\n",
    "print(\"==> Load train data successfully.\")\n",
    "\n",
    "test_data = scipy.io.loadmat(DATA_PATH[1])\n",
    "print(\"==> Load test data successfully.\")\n",
    "\n",
    "train_data = dict((key, value) for key, value in train_data.items() if key == 'X_train' or key == 'Y_train')\n",
    "test_data = dict((key, value) for key, value in test_data.items() if key == 'X_test' or key == 'Y_test')\n",
    "train_pairs = [(x, y) for x, y in zip(train_data['X_train'], train_data['Y_train'])]\n",
    "test_pairs = [(x, y) for x, y in zip(test_data['X_test'], test_data['Y_test'])]\n",
    "train_pairs.extend(test_pairs)\n",
    "Zs_real = [y for _,y in train_pairs]"
   ]
  },
  {
   "cell_type": "code",
   "execution_count": 3,
   "metadata": {},
   "outputs": [
    {
     "data": {
      "text/plain": [
       "(41, 9)"
      ]
     },
     "execution_count": 3,
     "metadata": {},
     "output_type": "execute_result"
    }
   ],
   "source": [
    "Zs_real[1].reshape(41,9).shape"
   ]
  },
  {
   "cell_type": "code",
   "execution_count": 10,
   "metadata": {},
   "outputs": [
    {
     "data": {
      "text/plain": [
       "array([  0.,   1.,   2.,   3.,   4.,   5.,   6.,   7.,   8.,   9.,  10.,\n",
       "        11.,  12.,  13.,  14.,  15.,  16.,  17.,  18.,  19.,  20.,  21.,\n",
       "        22.,  23.,  24.,  25.,  26.,  27.,  28.,  29.,  30.,  31.,  32.,\n",
       "        33.,  34.,  35.,  36.,  37.,  38.,  39.,  40.,  41.])"
      ]
     },
     "execution_count": 10,
     "metadata": {},
     "output_type": "execute_result"
    }
   ],
   "source": [
    "np.linspace(0, 41,42)"
   ]
  },
  {
   "cell_type": "code",
   "execution_count": 33,
   "metadata": {},
   "outputs": [
    {
     "name": "stderr",
     "output_type": "stream",
     "text": [
      "IOPub data rate exceeded.\n",
      "The notebook server will temporarily stop sending output\n",
      "to the client in order to avoid crashing it.\n",
      "To change this limit, set the config variable\n",
      "`--NotebookApp.iopub_data_rate_limit`.\n",
      "/Users/miracle/anaconda2/envs/py3/lib/python3.6/site-packages/plotly/graph_objs/_deprecations.py:477: DeprecationWarning:\n",
      "\n",
      "plotly.graph_objs.Scene is deprecated.\n",
      "Please replace it with one of the following more specific types\n",
      "  - plotly.graph_objs.Scene\n",
      "\n",
      "\n"
     ]
    },
    {
     "name": "stdout",
     "output_type": "stream",
     "text": [
      "This is the format of your plot grid:\n",
      "[ (1,1) scene1 ]  [ (1,2) scene2 ]\n",
      "\n"
     ]
    },
    {
     "data": {
      "text/html": [
       "<iframe id=\"igraph\" scrolling=\"no\" style=\"border:none;\" seamless=\"seamless\" src=\"https://plot.ly/~miracleyoo/20.embed\" height=\"450px\" width=\"800px\"></iframe>"
      ],
      "text/plain": [
       "<plotly.tools.PlotlyDisplay object>"
      ]
     },
     "execution_count": 33,
     "metadata": {},
     "output_type": "execute_result"
    }
   ],
   "source": [
    "import plotly.plotly as py\n",
    "import plotly.graph_objs as go\n",
    "from plotly import tools\n",
    "import plotly.offline as offline\n",
    "import numpy as np\n",
    "offline.init_notebook_mode()\n",
    "\n",
    "index = 2222\n",
    "z = Zs_real[index].reshape(41,9)\n",
    "x = np.linspace(0, 9, 10)\n",
    "y = np.linspace(0, 40, 41)\n",
    "xGrid, yGrid = np.meshgrid(y, x)\n",
    "# z = xGrid ** 3 + yGrid ** 3\n",
    "\n",
    "scene = dict(\n",
    "    xaxis=dict(\n",
    "        gridcolor='rgb(255, 255, 255)',\n",
    "        zerolinecolor='rgb(255, 255, 255)',\n",
    "        showbackground=True,\n",
    "        backgroundcolor='rgb(230, 230,230)'\n",
    "    ),\n",
    "    yaxis=dict(\n",
    "        gridcolor='rgb(255, 255, 255)',\n",
    "        zerolinecolor='rgb(255, 255, 255)',\n",
    "        showbackground=True,\n",
    "        backgroundcolor='rgb(230, 230,230)'\n",
    "    ),\n",
    "    zaxis=dict(\n",
    "        gridcolor='rgb(255, 255, 255)',\n",
    "        zerolinecolor='rgb(255, 255, 255)',\n",
    "        showbackground=True,\n",
    "        backgroundcolor='rgb(230, 230,230)'\n",
    "    ),\n",
    "    camera = dict(\n",
    "        up=dict(x=0, y=0, z=1),\n",
    "        center=dict(x=0, y=0, z=0),\n",
    "        eye=dict(x=2, y=-1.2, z=0.8)\n",
    "    )\n",
    ")\n",
    "\n",
    "fig = tools.make_subplots(rows=1, cols=2,\n",
    "                          specs=[[{'is_3d': True}, {'is_3d': True}]])\n",
    "\n",
    "# adding surfaces to subplots.\n",
    "fig.append_trace(dict(type='surface', x=x, y=y, z=z, colorscale='Viridis',\n",
    "                      scene='scene1', showscale=False), 1, 1)\n",
    "fig.append_trace(dict(type='surface', x=x, y=y, z=z, colorscale='Viridis',\n",
    "                      scene='scene2', showscale=False), 1, 2)\n",
    "fig['layout'].update(title='Real & Predit Voltage Distribution Graph',\n",
    "                     height=450, width=800)\n",
    "fig['layout']['scene1'].update(scene)\n",
    "fig['layout']['scene2'].update(scene)\n",
    "\n",
    "py.iplot(fig,filename='ts')"
   ]
  },
  {
   "cell_type": "code",
   "execution_count": null,
   "metadata": {
    "collapsed": true
   },
   "outputs": [],
   "source": []
  }
 ],
 "metadata": {
  "kernelspec": {
   "display_name": "Python 3",
   "language": "python",
   "name": "python3"
  },
  "language_info": {
   "codemirror_mode": {
    "name": "ipython",
    "version": 3
   },
   "file_extension": ".py",
   "mimetype": "text/x-python",
   "name": "python",
   "nbconvert_exporter": "python",
   "pygments_lexer": "ipython3",
   "version": "3.6.1"
  }
 },
 "nbformat": 4,
 "nbformat_minor": 2
}
